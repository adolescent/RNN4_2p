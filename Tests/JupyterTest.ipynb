{
 "cells": [
  {
   "cell_type": "code",
   "execution_count": null,
   "metadata": {},
   "outputs": [],
   "source": []
  }
 ],
 "metadata": {
  "kernelspec": {
   "display_name": "Python 3.10.6 ('torchzr')",
   "language": "python",
   "name": "python3"
  },
  "language_info": {
   "name": "python",
   "version": "3.10.6"
  },
  "orig_nbformat": 4,
  "vscode": {
   "interpreter": {
    "hash": "9f9bbd8a63d5152a9827fca298b9c6d61b6585bffec6f1ab3ec4ece0e8a7ad4b"
   }
  }
 },
 "nbformat": 4,
 "nbformat_minor": 2
}
